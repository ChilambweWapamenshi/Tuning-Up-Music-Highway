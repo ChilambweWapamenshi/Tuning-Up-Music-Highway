{
 "cells": [
  {
   "cell_type": "markdown",
   "metadata": {},
   "source": [
    "# Geospatial Feature Tagging for I-40 Crash Data\n"
   ]
  },
  {
   "cell_type": "code",
   "execution_count": null,
   "metadata": {},
   "outputs": [],
   "source": [
    "import pandas as pd\n",
    "import re\n",
    "\n",
    "# File Paths\n",
    "crash_data_path = \"Serious Injuries and Fatalities Data for I-40 Tennessee _with weather and wetness_.csv\"\n",
    "manual_features_path = \"Manual Geospatial Feature Classification by Section (4).xlsx\"\n",
    "output_path = \"Crash_Data_Geotagged_Filtered_Final.csv\""
   ]
  },
  {
   "cell_type": "code",
   "execution_count": null,
   "metadata": {},
   "outputs": [],
   "source": [
    "# Parameters\n",
    "longitude_col = \"Longitude_adj\"\n",
    "min_longitude = -89.073096\n",
    "max_longitude = -88.198390"
   ]
  },
  {
   "cell_type": "code",
   "execution_count": null,
   "metadata": {},
   "outputs": [],
   "source": [
    "# Data loading \n",
    "crash_data = pd.read_csv(crash_data_path)\n",
    "manual_features = pd.read_excel(manual_features_path, sheet_name=None)"
   ]
  },
  {
   "cell_type": "code",
   "execution_count": null,
   "metadata": {},
   "outputs": [],
   "source": [
    "# Parse the manual annotations \n",
    "feature_lookup = {}\n",
    "\n",
    "for sheet_name, df in manual_features.items():\n",
    "    df = df.fillna(\"\")\n",
    "    feature = None\n",
    "\n",
    "    for index, row in df.iterrows():\n",
    "        row_first_cell = str(row.iloc[0]).strip()\n",
    "\n",
    "        if \"=\" not in row_first_cell and row_first_cell != \"\":\n",
    "            feature = row_first_cell\n",
    "            if feature not in feature_lookup:\n"_
